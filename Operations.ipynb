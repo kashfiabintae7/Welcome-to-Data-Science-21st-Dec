{
 "cells": [
  {
   "cell_type": "code",
   "execution_count": 7,
   "metadata": {},
   "outputs": [],
   "source": [
    "import numpy as np\n"
   ]
  },
  {
   "cell_type": "code",
   "execution_count": 9,
   "metadata": {},
   "outputs": [
    {
     "name": "stdout",
     "output_type": "stream",
     "text": [
      "Matrix 'matrix_a':\n",
      "[[0. 1. 2.]\n",
      " [3. 4. 5.]\n",
      " [6. 7. 8.]]\n"
     ]
    }
   ],
   "source": [
    "matrix_a = np.arange(9, dtype=float).reshape(3, 3)\n",
    "print(\"Matrix 'matrix_a':\")\n",
    "print(matrix_a)"
   ]
  },
  {
   "cell_type": "code",
   "execution_count": 10,
   "metadata": {},
   "outputs": [
    {
     "name": "stdout",
     "output_type": "stream",
     "text": [
      "\n",
      "Array 'array_b':\n",
      "[10 10 10]\n"
     ]
    }
   ],
   "source": [
    "array_b = np.array([10, 10, 10])\n",
    "print(\"\\nArray 'array_b':\")\n",
    "print(array_b)"
   ]
  },
  {
   "cell_type": "code",
   "execution_count": null,
   "metadata": {},
   "outputs": [],
   "source": [
    "print(\"\\nElement-wise addition of 'matrix_a' and 'array_b':\")\n",
    "print(np.add(matrix_a, array_b))"
   ]
  },
  {
   "cell_type": "code",
   "execution_count": null,
   "metadata": {},
   "outputs": [],
   "source": [
    "print(\"\\nElement-wise substaction of 'matrix_a' and 'array_b':\")\n",
    "print(np.subtract(matrix_a, array_b))"
   ]
  },
  {
   "cell_type": "code",
   "execution_count": null,
   "metadata": {},
   "outputs": [],
   "source": [
    "print(\"\\nElement-wise multiplication of 'matrix_a' and 'array_b':\")\n",
    "print(np.multiply(matrix_a, array_b))"
   ]
  },
  {
   "cell_type": "code",
   "execution_count": null,
   "metadata": {},
   "outputs": [],
   "source": [
    "print(\"\\nElement-wise division of 'matrix_a' and 'array_b':\")\n",
    "print(np.divide(matrix_a, array_b))"
   ]
  }
 ],
 "metadata": {
  "kernelspec": {
   "display_name": "Python 3",
   "language": "python",
   "name": "python3"
  },
  "language_info": {
   "codemirror_mode": {
    "name": "ipython",
    "version": 3
   },
   "file_extension": ".py",
   "mimetype": "text/x-python",
   "name": "python",
   "nbconvert_exporter": "python",
   "pygments_lexer": "ipython3",
   "version": "3.12.5"
  }
 },
 "nbformat": 4,
 "nbformat_minor": 2
}
